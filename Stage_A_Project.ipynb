{
  "nbformat": 4,
  "nbformat_minor": 0,
  "metadata": {
    "colab": {
      "name": "Stage A Project.ipynb",
      "provenance": []
    },
    "kernelspec": {
      "name": "python3",
      "display_name": "Python 3"
    },
    "language_info": {
      "name": "python"
    }
  },
  "cells": [
    {
      "cell_type": "code",
      "execution_count": 2,
      "metadata": {
        "id": "6XQqZ8JN0ZVi"
      },
      "outputs": [],
      "source": [
        "import pandas as pd\n",
        "import numpy as np\n",
        "import matplotlib.pyplot as plt\n",
        "import seaborn as sns\n",
        "from google.colab import drive"
      ]
    },
    {
      "cell_type": "code",
      "source": [
        "drive.mount('/content/drive')"
      ],
      "metadata": {
        "colab": {
          "base_uri": "https://localhost:8080/"
        },
        "id": "0WKhAgdS0bS9",
        "outputId": "8a35b255-d45b-4d7f-c860-6263ce7e72c3"
      },
      "execution_count": 3,
      "outputs": [
        {
          "output_type": "stream",
          "name": "stdout",
          "text": [
            "Mounted at /content/drive\n"
          ]
        }
      ]
    },
    {
      "cell_type": "code",
      "source": [
        "food_data= pd.read_csv(\"/content/drive/MyDrive/FoodBalanceSheets_E_Africa_NOFLAG.csv\", encoding=\"ISO-8859-1\")\n",
        "food_data.head(5)"
      ],
      "metadata": {
        "id": "YcoUeBHM0bnO"
      },
      "execution_count": null,
      "outputs": []
    },
    {
      "cell_type": "markdown",
      "source": [
        "QUESTION 12"
      ],
      "metadata": {
        "id": "9qRoFRj43tfb"
      }
    },
    {
      "cell_type": "code",
      "source": [
        "mean=food_data[\"Y2015\"].mean()\n",
        "print(\"{:.3f}\".format(mean))\n",
        "std=food_data[\"Y2015\"].std()\n",
        "print(\"{:.3f}\".format(std))"
      ],
      "metadata": {
        "id": "645IlWKe2Xld"
      },
      "execution_count": null,
      "outputs": []
    },
    {
      "cell_type": "markdown",
      "source": [
        "QUESTION 13"
      ],
      "metadata": {
        "id": "5PdR2T1s5jXf"
      }
    },
    {
      "cell_type": "code",
      "source": [
        "sum=food_data[\"Y2016\"].isnull().sum()\n",
        "print(\"{:.2f}\".format(sum))\n",
        "percentage=(sum*100)/len(food_data[\"Y2016\"])\n",
        "print(\"{:.2f}\".format(percentage))"
      ],
      "metadata": {
        "id": "RnBJftl_34Ls"
      },
      "execution_count": null,
      "outputs": []
    },
    {
      "cell_type": "markdown",
      "source": [
        "QUESTION 14"
      ],
      "metadata": {
        "id": "FoD9KmYQ58xL"
      }
    },
    {
      "cell_type": "code",
      "source": [
        "food_data.groupby(\"Element Code\").corr()"
      ],
      "metadata": {
        "id": "AUEFgrDg5gmh"
      },
      "execution_count": null,
      "outputs": []
    },
    {
      "cell_type": "markdown",
      "source": [
        "QUESTION 15"
      ],
      "metadata": {
        "id": "VoWqG_1z5_7U"
      }
    },
    {
      "cell_type": "code",
      "source": [
        "food_data.groupby(\"Element\").sum()"
      ],
      "metadata": {
        "id": "3zBB_N3M0b05"
      },
      "execution_count": null,
      "outputs": []
    },
    {
      "cell_type": "markdown",
      "source": [
        "QUESTION 16"
      ],
      "metadata": {
        "id": "-ciFWywJ7d5w"
      }
    },
    {
      "cell_type": "code",
      "source": [
        "food_data[[\"Element\",\"Y2018\"]].groupby(\"Element\").sum()"
      ],
      "metadata": {
        "id": "Kkh5by147g3y"
      },
      "execution_count": null,
      "outputs": []
    },
    {
      "cell_type": "markdown",
      "source": [
        "QUESTION 17"
      ],
      "metadata": {
        "id": "LFKhIX2G7iT2"
      }
    },
    {
      "cell_type": "code",
      "source": [
        "food_data[[\"Element\",\"Y2018\"]].groupby(\"Element\").sum()"
      ],
      "metadata": {
        "id": "-UzXJSoR7lCF"
      },
      "execution_count": null,
      "outputs": []
    },
    {
      "cell_type": "markdown",
      "source": [
        "QUESTION 18"
      ],
      "metadata": {
        "id": "hzVhlLi68me0"
      }
    },
    {
      "cell_type": "code",
      "source": [
        "food_data[[\"Element\",\"Y2018\"]].groupby(\"Element\").sum()"
      ],
      "metadata": {
        "id": "RN-_WBTC0cAL"
      },
      "execution_count": null,
      "outputs": []
    },
    {
      "cell_type": "markdown",
      "source": [
        "QUESTION 19"
      ],
      "metadata": {
        "id": "aRO3ijrF89s_"
      }
    },
    {
      "cell_type": "code",
      "source": [
        "new=food_data.loc[food_data[\"Area\"]==\"Algeria\"]\n",
        "new[[\"Element\",\"Y2018\"]].groupby(\"Element\").sum()"
      ],
      "metadata": {
        "id": "iBTX9KRe0cMb"
      },
      "execution_count": null,
      "outputs": []
    },
    {
      "cell_type": "markdown",
      "source": [
        "QUESTION 20"
      ],
      "metadata": {
        "id": "-KuFR1-M9Bjw"
      }
    },
    {
      "cell_type": "code",
      "source": [
        "len(food_data[\"Area\"].unique())"
      ],
      "metadata": {
        "colab": {
          "base_uri": "https://localhost:8080/"
        },
        "id": "RI9oYLr-0cXg",
        "outputId": "7a24c095-243b-4b13-f1bb-4fc26a9f22ea"
      },
      "execution_count": 31,
      "outputs": [
        {
          "output_type": "execute_result",
          "data": {
            "text/plain": [
              "49"
            ]
          },
          "metadata": {},
          "execution_count": 31
        }
      ]
    }
  ]
}